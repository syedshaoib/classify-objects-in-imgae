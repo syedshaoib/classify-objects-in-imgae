{
 "cells": [
  {
   "cell_type": "code",
   "execution_count": 2,
   "id": "909c0045",
   "metadata": {},
   "outputs": [],
   "source": [
    "import cv2\n",
    "import time\n",
    "import numpy as np"
   ]
  },
  {
   "cell_type": "code",
   "execution_count": 3,
   "id": "66cfe0af",
   "metadata": {},
   "outputs": [],
   "source": [
    "# cv2.imshow('input image',image)\n",
    "arti='yolov3.cfg'\n",
    "weights='yolov3.weights'\n",
    "scale = 0.00392\n",
    "classes=[]\n",
    "with  open('yolov3.txt','r') as f:\n",
    "    for line in f.readlines():\n",
    "        classes.append(line.strip('\\n'))\n",
    "net=cv2.dnn.readNetFromDarknet('darknet/cfg/yolov3.cfg',weights)\n",
    "len(classes)\n",
    "net.setPreferableBackend(cv2.dnn.DNN_BACKEND_OPENCV)\n",
    "net.setPreferableTarget(cv2.dnn.DNN_TARGET_CPU)\n",
    "\n"
   ]
  },
  {
   "cell_type": "code",
   "execution_count": 40,
   "id": "6a716029",
   "metadata": {},
   "outputs": [
    {
     "name": "stdout",
     "output_type": "stream",
     "text": [
      "(798, 1180, 3)\n",
      "955 34 142 455\n",
      "person\n",
      "833 61 120 412\n",
      "person\n",
      "517 516 160 110\n",
      "cup\n",
      "18 335 530 374\n",
      "laptop\n",
      "697 697 155 46\n",
      "mouse\n",
      "277 691 356 62\n",
      "cell phone\n"
     ]
    }
   ],
   "source": [
    "conf_threshold = 0.9\n",
    "nms_threshold = 0.2\n",
    "classids=[]\n",
    "def find(outputs,img):\n",
    "    imge=np.zeros(img.shape)\n",
    "        \n",
    "    bb=[]\n",
    "    H,W,c=img.shape\n",
    "  \n",
    "    confs=[]\n",
    "    \n",
    "    for output in outputs:\n",
    "        for det in output:\n",
    "            scores=det[5:]\n",
    "            classid=np.argmax(scores)\n",
    "            confidence=scores[classid]\n",
    "            if(confidence>conf_threshold):\n",
    "                \n",
    "               \n",
    "                w,h=int(det[2]*W), int(det[3]*H)\n",
    "                x,y=int(det[0]*W-w/2),int(det[1]*H-h/2)\n",
    "                confs.append(float(confidence))\n",
    "                classids.append(classid)\n",
    "                bb.append([x,y,w,h])\n",
    "    indices=cv2.dnn.NMSBoxes(bb, confs, conf_threshold, nms_threshold)\n",
    "    for i in indices:\n",
    "        box=bb[i]\n",
    "        x = box[0]\n",
    "        y = box[1]\n",
    "        w = box[2]\n",
    "        h = box[3]\n",
    "        print(x,y,w,h)\n",
    "\n",
    "        \n",
    "        print(classes[classids[i]])\n",
    "        \n",
    "        label=classes[classids[i]]\n",
    "#         cv2.circle(image,(int(x+(w/2)),int(y+(h/2))),w,(323,123,188),2)\n",
    "        cv2.rectangle(image, (x,y), (x+w,y+h), (23,25,22), 2)\n",
    "        \n",
    "        cv2.putText(img, f'{label}', (x,y), cv2.FONT_HERSHEY_SIMPLEX,1, (20,150,200 ), 2)\n",
    "     \n",
    "       \n",
    "        \n",
    "        \n",
    "\n",
    "            \n",
    "\n",
    "image=cv2.imread('office3.jpg')\n",
    "\n",
    "blob = cv2.dnn.blobFromImage(image, scale, (320,320), (0,0,0), True, crop=False)\n",
    "print(image.shape)\n",
    "net.setInput(blob)\n",
    "\n",
    "\n",
    "layer_names = net.getLayerNames()\n",
    "outputlayer=[]\n",
    "for i in net.getUnconnectedOutLayers():\n",
    "    outputlayer.append(layer_names[i-1])\n",
    "outputs=net.forward(outputlayer)\n",
    "\n",
    "\n",
    "find(outputs,image)\n",
    "cv2.imshow(\"object detection\", image)\n",
    "cv2.waitKey(0)\n",
    "cv2.destroyAllWindows()\n"
   ]
  },
  {
   "cell_type": "code",
   "execution_count": null,
   "id": "93e5d3f1",
   "metadata": {},
   "outputs": [],
   "source": []
  },
  {
   "cell_type": "code",
   "execution_count": null,
   "id": "2ffa83b2",
   "metadata": {},
   "outputs": [],
   "source": []
  },
  {
   "cell_type": "code",
   "execution_count": null,
   "id": "6c8f4eac",
   "metadata": {},
   "outputs": [],
   "source": []
  },
  {
   "cell_type": "code",
   "execution_count": null,
   "id": "c5899883",
   "metadata": {},
   "outputs": [],
   "source": []
  },
  {
   "cell_type": "code",
   "execution_count": null,
   "id": "cf69f63b",
   "metadata": {},
   "outputs": [],
   "source": []
  }
 ],
 "metadata": {
  "kernelspec": {
   "display_name": "Python 3 (ipykernel)",
   "language": "python",
   "name": "python3"
  },
  "language_info": {
   "codemirror_mode": {
    "name": "ipython",
    "version": 3
   },
   "file_extension": ".py",
   "mimetype": "text/x-python",
   "name": "python",
   "nbconvert_exporter": "python",
   "pygments_lexer": "ipython3",
   "version": "3.9.7"
  }
 },
 "nbformat": 4,
 "nbformat_minor": 5
}
